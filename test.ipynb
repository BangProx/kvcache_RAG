{
 "cells": [
  {
   "cell_type": "code",
   "execution_count": 1,
   "metadata": {},
   "outputs": [
    {
     "name": "stderr",
     "output_type": "stream",
     "text": [
      "/Users/bangbyeonghun/miniforge3/envs/kvcache/lib/python3.9/site-packages/tqdm/auto.py:21: TqdmWarning: IProgress not found. Please update jupyter and ipywidgets. See https://ipywidgets.readthedocs.io/en/stable/user_install.html\n",
      "  from .autonotebook import tqdm as notebook_tqdm\n"
     ]
    },
    {
     "data": {
      "text/html": [
       "<div>\n",
       "<style scoped>\n",
       "    .dataframe tbody tr th:only-of-type {\n",
       "        vertical-align: middle;\n",
       "    }\n",
       "\n",
       "    .dataframe tbody tr th {\n",
       "        vertical-align: top;\n",
       "    }\n",
       "\n",
       "    .dataframe thead th {\n",
       "        text-align: right;\n",
       "    }\n",
       "</style>\n",
       "<table border=\"1\" class=\"dataframe\">\n",
       "  <thead>\n",
       "    <tr style=\"text-align: right;\">\n",
       "      <th></th>\n",
       "      <th>question</th>\n",
       "      <th>long_answers</th>\n",
       "      <th>short_answers</th>\n",
       "    </tr>\n",
       "  </thead>\n",
       "  <tbody>\n",
       "    <tr>\n",
       "      <th>0</th>\n",
       "      <td>which is the most common use of opt-in e-mail ...</td>\n",
       "      <td>A common example of permission marketing is a ...</td>\n",
       "      <td>A newsletter sent to an advertising firm's cus...</td>\n",
       "    </tr>\n",
       "    <tr>\n",
       "      <th>1</th>\n",
       "      <td>how i.met your mother who is the mother</td>\n",
       "      <td>Tracy McConnell, better known as `` The Mother...</td>\n",
       "      <td>Tracy McConnell</td>\n",
       "    </tr>\n",
       "    <tr>\n",
       "      <th>2</th>\n",
       "      <td>who had the most wins in the nfl</td>\n",
       "      <td>Active quarterback Tom Brady holds the records...</td>\n",
       "      <td>Tom Brady</td>\n",
       "    </tr>\n",
       "    <tr>\n",
       "      <th>3</th>\n",
       "      <td>who played mantis guardians of the galaxy 2</td>\n",
       "      <td>Pom Klementieff (born May 1986) is a French ac...</td>\n",
       "      <td>Pom Klementieff</td>\n",
       "    </tr>\n",
       "    <tr>\n",
       "      <th>4</th>\n",
       "      <td>the nashville sound brought a polished and cos...</td>\n",
       "      <td>In the early 1960s, the Nashville sound began ...</td>\n",
       "      <td>The use of lush string arrangements with a rea...</td>\n",
       "    </tr>\n",
       "  </tbody>\n",
       "</table>\n",
       "</div>"
      ],
      "text/plain": [
       "                                            question  \\\n",
       "0  which is the most common use of opt-in e-mail ...   \n",
       "1            how i.met your mother who is the mother   \n",
       "2                   who had the most wins in the nfl   \n",
       "3        who played mantis guardians of the galaxy 2   \n",
       "4  the nashville sound brought a polished and cos...   \n",
       "\n",
       "                                        long_answers  \\\n",
       "0  A common example of permission marketing is a ...   \n",
       "1  Tracy McConnell, better known as `` The Mother...   \n",
       "2  Active quarterback Tom Brady holds the records...   \n",
       "3  Pom Klementieff (born May 1986) is a French ac...   \n",
       "4  In the early 1960s, the Nashville sound began ...   \n",
       "\n",
       "                                       short_answers  \n",
       "0  A newsletter sent to an advertising firm's cus...  \n",
       "1                                    Tracy McConnell  \n",
       "2                                          Tom Brady  \n",
       "3                                    Pom Klementieff  \n",
       "4  The use of lush string arrangements with a rea...  "
      ]
     },
     "execution_count": 1,
     "metadata": {},
     "output_type": "execute_result"
    }
   ],
   "source": [
    "import pickle\n",
    "import numpy as np\n",
    "import pandas as pd\n",
    "import faiss\n",
    "from datasets import load_dataset\n",
    "from sentence_transformers import SentenceTransformer\n",
    "from sklearn.cluster import KMeans\n",
    "from sklearn.metrics import silhouette_score\n",
    "\n",
    "dataset = pd.read_csv('dataset/Natural-Questions-Filtered.csv')[:1000]\n",
    "dataset.head(5)"
   ]
  },
  {
   "cell_type": "code",
   "execution_count": 2,
   "metadata": {},
   "outputs": [],
   "source": [
    "documents = list(dataset['long_answers'])\n",
    "num_documents = len(documents)"
   ]
  },
  {
   "cell_type": "code",
   "execution_count": 3,
   "metadata": {},
   "outputs": [
    {
     "name": "stderr",
     "output_type": "stream",
     "text": [
      "Batches: 100%|██████████| 32/32 [00:02<00:00, 14.83it/s]\n",
      "huggingface/tokenizers: The current process just got forked, after parallelism has already been used. Disabling parallelism to avoid deadlocks...\n",
      "To disable this warning, you can either:\n",
      "\t- Avoid using `tokenizers` before the fork if possible\n",
      "\t- Explicitly set the environment variable TOKENIZERS_PARALLELISM=(true | false)\n"
     ]
    },
    {
     "name": "stdout",
     "output_type": "stream",
     "text": [
      "k=5, silhouette score: 0.0286\n",
      "k=6, silhouette score: 0.0294\n",
      "k=7, silhouette score: 0.0318\n",
      "k=8, silhouette score: 0.0278\n",
      "k=9, silhouette score: 0.0300\n",
      "k=10, silhouette score: 0.0303\n",
      "k=11, silhouette score: 0.0310\n",
      "k=12, silhouette score: 0.0285\n",
      "k=13, silhouette score: 0.0283\n",
      "k=14, silhouette score: 0.0254\n",
      "k=15, silhouette score: 0.0289\n",
      "k=16, silhouette score: 0.0292\n",
      "k=17, silhouette score: 0.0287\n",
      "k=18, silhouette score: 0.0280\n",
      "k=19, silhouette score: 0.0266\n",
      "k=20, silhouette score: 0.0251\n",
      "k=21, silhouette score: 0.0235\n",
      "k=22, silhouette score: 0.0217\n",
      "k=23, silhouette score: 0.0241\n",
      "k=24, silhouette score: 0.0233\n",
      "k=25, silhouette score: 0.0241\n",
      "k=26, silhouette score: 0.0246\n",
      "k=27, silhouette score: 0.0215\n",
      "k=28, silhouette score: 0.0213\n",
      "k=29, silhouette score: 0.0217\n",
      "k=30, silhouette score: 0.0217\n",
      "k=31, silhouette score: 0.0219\n",
      "k=32, silhouette score: 0.0203\n",
      "k=33, silhouette score: 0.0212\n",
      "k=34, silhouette score: 0.0210\n",
      "k=35, silhouette score: 0.0213\n",
      "k=36, silhouette score: 0.0219\n",
      "k=37, silhouette score: 0.0205\n",
      "k=38, silhouette score: 0.0204\n",
      "k=39, silhouette score: 0.0206\n",
      "k=40, silhouette score: 0.0207\n",
      "k=41, silhouette score: 0.0206\n",
      "k=42, silhouette score: 0.0207\n",
      "k=43, silhouette score: 0.0218\n",
      "k=44, silhouette score: 0.0212\n",
      "k=45, silhouette score: 0.0205\n",
      "k=46, silhouette score: 0.0209\n",
      "k=47, silhouette score: 0.0208\n",
      "k=48, silhouette score: 0.0209\n",
      "k=49, silhouette score: 0.0211\n",
      "Best k based on silhouette score: 7\n"
     ]
    }
   ],
   "source": [
    "model = SentenceTransformer('all-MiniLM-L6-v2')\n",
    "doc_embeddings = model.encode(documents, show_progress_bar=True, convert_to_numpy=True).astype('float32')\n",
    "dim = doc_embeddings.shape[1]\n",
    "\n",
    "candidate_ks = list(range(5, min(50, num_documents // 10 + 1)))\n",
    "best_k = candidate_ks[0]\n",
    "best_score = -1\n",
    "for k in candidate_ks:\n",
    "    kmeans = KMeans(n_clusters=k, random_state=42)\n",
    "    cluster_labels = kmeans.fit_predict(doc_embeddings)\n",
    "    if k > 1:\n",
    "        score = silhouette_score(doc_embeddings, cluster_labels)\n",
    "        print(f\"k={k}, silhouette score: {score:.4f}\")\n",
    "        if score > best_score:\n",
    "            best_score = score\n",
    "            best_k = k\n",
    "\n",
    "print(\"Best k based on silhouette score:\", best_k)"
   ]
  },
  {
   "cell_type": "code",
   "execution_count": 4,
   "metadata": {},
   "outputs": [],
   "source": [
    "# FAISS를 이용해 최적의 클러스터 개수(best_k)로 클러스터링\n",
    "index_flat = faiss.IndexFlatL2(dim)\n",
    "clustering = faiss.Clustering(dim, best_k)\n",
    "clustering.niter = 20  # 클러스터링 반복 횟수\n",
    "clustering.train(doc_embeddings, index_flat)\n",
    "centroids = clustering.centroids  # shape: [best_k, dim]"
   ]
  },
  {
   "cell_type": "code",
   "execution_count": null,
   "metadata": {},
   "outputs": [
    {
     "ename": "ValueError",
     "evalue": "not enough values to unpack (expected 2, got 1)",
     "output_type": "error",
     "traceback": [
      "\u001b[0;31m---------------------------------------------------------------------------\u001b[0m",
      "\u001b[0;31mValueError\u001b[0m                                Traceback (most recent call last)",
      "Cell \u001b[0;32mIn[8], line 5\u001b[0m\n\u001b[1;32m      3\u001b[0m \u001b[38;5;66;03m#centroids_np = centroids_np.reshape(k, dim)  # k와 dim에 맞게 reshape\u001b[39;00m\n\u001b[1;32m      4\u001b[0m centroid_index \u001b[38;5;241m=\u001b[39m faiss\u001b[38;5;241m.\u001b[39mIndexFlatL2(dim)\n\u001b[0;32m----> 5\u001b[0m \u001b[43mcentroid_index\u001b[49m\u001b[38;5;241;43m.\u001b[39;49m\u001b[43madd\u001b[49m\u001b[43m(\u001b[49m\u001b[43mcentroids_np\u001b[49m\u001b[43m)\u001b[49m\n\u001b[1;32m      6\u001b[0m _, cluster_assignments \u001b[38;5;241m=\u001b[39m centroid_index\u001b[38;5;241m.\u001b[39msearch(doc_embeddings, \u001b[38;5;241m1\u001b[39m)\n\u001b[1;32m      7\u001b[0m cluster_assignments \u001b[38;5;241m=\u001b[39m cluster_assignments\u001b[38;5;241m.\u001b[39msqueeze()\n",
      "File \u001b[0;32m~/miniforge3/envs/kvcache/lib/python3.9/site-packages/faiss/class_wrappers.py:227\u001b[0m, in \u001b[0;36mhandle_Index.<locals>.replacement_add\u001b[0;34m(self, x)\u001b[0m\n\u001b[1;32m    214\u001b[0m \u001b[38;5;28;01mdef\u001b[39;00m\u001b[38;5;250m \u001b[39m\u001b[38;5;21mreplacement_add\u001b[39m(\u001b[38;5;28mself\u001b[39m, x):\n\u001b[1;32m    215\u001b[0m \u001b[38;5;250m    \u001b[39m\u001b[38;5;124;03m\"\"\"Adds vectors to the index.\u001b[39;00m\n\u001b[1;32m    216\u001b[0m \u001b[38;5;124;03m    The index must be trained before vectors can be added to it.\u001b[39;00m\n\u001b[1;32m    217\u001b[0m \u001b[38;5;124;03m    The vectors are implicitly numbered in sequence. When `n` vectors are\u001b[39;00m\n\u001b[0;32m   (...)\u001b[0m\n\u001b[1;32m    224\u001b[0m \u001b[38;5;124;03m        `dtype` must be float32.\u001b[39;00m\n\u001b[1;32m    225\u001b[0m \u001b[38;5;124;03m    \"\"\"\u001b[39;00m\n\u001b[0;32m--> 227\u001b[0m     n, d \u001b[38;5;241m=\u001b[39m x\u001b[38;5;241m.\u001b[39mshape\n\u001b[1;32m    228\u001b[0m     \u001b[38;5;28;01massert\u001b[39;00m d \u001b[38;5;241m==\u001b[39m \u001b[38;5;28mself\u001b[39m\u001b[38;5;241m.\u001b[39md\n\u001b[1;32m    229\u001b[0m     x \u001b[38;5;241m=\u001b[39m np\u001b[38;5;241m.\u001b[39mascontiguousarray(x, dtype\u001b[38;5;241m=\u001b[39m\u001b[38;5;124m'\u001b[39m\u001b[38;5;124mfloat32\u001b[39m\u001b[38;5;124m'\u001b[39m)\n",
      "\u001b[0;31mValueError\u001b[0m: not enough values to unpack (expected 2, got 1)"
     ]
    }
   ],
   "source": [
    "# 각 문서를 가장 가까운 클러스터(centroid)에 할당\n",
    "centroid_index = faiss.IndexFlatL2(dim)\n",
    "centroid_index.add(centroids)\n",
    "_, cluster_assignments = centroid_index.search(doc_embeddings, 1)\n",
    "cluster_assignments = cluster_assignments.squeeze()"
   ]
  },
  {
   "cell_type": "code",
   "execution_count": null,
   "metadata": {},
   "outputs": [],
   "source": [
    "# 클러스터별 문서 인덱스 매핑 생성\n",
    "clusters = {i: [] for i in range(best_k)}\n",
    "for doc_idx, cluster_id in enumerate(cluster_assignments):\n",
    "    clusters[int(cluster_id)].append(doc_idx)"
   ]
  },
  {
   "cell_type": "code",
   "execution_count": null,
   "metadata": {},
   "outputs": [],
   "source": [
    "# 각 클러스터별로 별도의 FAISS 인덱스 구축 (클러스터 내 빠른 검색을 위해)\n",
    "cluster_indexes = {}\n",
    "for cluster_id, doc_idxs in clusters.items():\n",
    "    if len(doc_idxs) > 0:\n",
    "        cluster_embeddings = doc_embeddings[doc_idxs]\n",
    "        index_cluster = faiss.IndexFlatL2(dim)\n",
    "        index_cluster.add(cluster_embeddings)\n",
    "        cluster_indexes[cluster_id] = index_cluster"
   ]
  },
  {
   "cell_type": "code",
   "execution_count": null,
   "metadata": {},
   "outputs": [],
   "source": [
    "# FAISS centroid index 저장\n",
    "faiss.write_index(centroid_index, \"centroid_index.index\")\n",
    "\n",
    "# 각 클러스터별 인덱스 저장 (파일 이름에 cluster_id 포함)\n",
    "for cluster_id, index_cluster in cluster_indexes.items():\n",
    "    faiss.write_index(index_cluster, f\"cluster_index_{cluster_id}.index\")\n",
    "\n",
    "# 클러스터 매핑 정보, 문서 목록, 메타 정보 저장 (pickle 사용)\n",
    "with open(\"clusters_mapping.pkl\", \"wb\") as f:\n",
    "    pickle.dump(clusters, f)\n",
    "\n",
    "with open(\"documents.pkl\", \"wb\") as f:\n",
    "    pickle.dump(documents, f)\n",
    "\n",
    "with open(\"meta_info.pkl\", \"wb\") as f:\n",
    "    meta_info = {\"best_k\": best_k, \"dim\": dim}\n",
    "    pickle.dump(meta_info, f)\n",
    "\n",
    "print(\"FAISS 인덱스와 관련 데이터가 저장되었습니다.\")"
   ]
  }
 ],
 "metadata": {
  "kernelspec": {
   "display_name": "kvcache",
   "language": "python",
   "name": "python3"
  },
  "language_info": {
   "codemirror_mode": {
    "name": "ipython",
    "version": 3
   },
   "file_extension": ".py",
   "mimetype": "text/x-python",
   "name": "python",
   "nbconvert_exporter": "python",
   "pygments_lexer": "ipython3",
   "version": "3.9.21"
  }
 },
 "nbformat": 4,
 "nbformat_minor": 2
}
